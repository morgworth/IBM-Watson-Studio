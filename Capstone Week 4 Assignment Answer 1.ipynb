{
    "nbformat_minor": 1, 
    "cells": [
        {
            "source": "# Introduction / Business Problem", 
            "cell_type": "markdown", 
            "metadata": {
                "collapsed": true
            }
        }, 
        {
            "source": "Chicago has been declining in population for the past 3 years. This is rare for a metropolitan area to decrease like this year-over-year. Here is more information about the decline: https://www.chicagotribune.com/news/local/breaking/ct-met-chicago-cook-county-population-20180320-story.html  \n  \nThe types of venues that are present in a given zip code, among other types of information available from foursquare, may serve as good predictors of whether that zip code is likely to experience population decline. My goal for this project is to make a classifier for a given zip code to predict if it will experience decline or not. ", 
            "cell_type": "markdown", 
            "metadata": {}
        }, 
        {
            "source": "# Data", 
            "cell_type": "markdown", 
            "metadata": {}
        }, 
        {
            "source": "On the data, I plan to get the venues from the explore API from foursquare for each zip code in Chicago. I will use this data for features. Then I plan to use this API from the US Census Bureau to compare the populations between 2016 and 2017 to get labels:\n\nhttps://www.census.gov/data/developers/data-sets/acs-5year.html", 
            "cell_type": "markdown", 
            "metadata": {}
        }
    ], 
    "metadata": {
        "kernelspec": {
            "display_name": "Python 3.5", 
            "name": "python3", 
            "language": "python"
        }, 
        "language_info": {
            "mimetype": "text/x-python", 
            "nbconvert_exporter": "python", 
            "version": "3.5.5", 
            "name": "python", 
            "file_extension": ".py", 
            "pygments_lexer": "ipython3", 
            "codemirror_mode": {
                "version": 3, 
                "name": "ipython"
            }
        }
    }, 
    "nbformat": 4
}
